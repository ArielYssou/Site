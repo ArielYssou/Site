{
 "cells": [
  {
   "cell_type": "code",
   "execution_count": 1,
   "metadata": {},
   "outputs": [],
   "source": [
    "import matplotlib.pyplot as plt\n",
    "import numpy as np\n",
    "import pandas as pd\n",
    "\n",
    "from sklearn.datasets import make_blobs \n",
    "from sklearn.tree import DecisionTreeClassifier, export_text"
   ]
  },
  {
   "cell_type": "code",
   "execution_count": 65,
   "metadata": {},
   "outputs": [],
   "source": [
    "# make data\n",
    "X, y = make_blobs(\n",
    "    n_samples=100,\n",
    "    n_features=2,\n",
    "    centers=4,\n",
    "    cluster_std=[1, 2, 1, 3],\n",
    "    random_state=42,\n",
    ")\n",
    "\n",
    "# Make it binary\n",
    "y = [val % 2 for val in y]"
   ]
  },
  {
   "cell_type": "code",
   "execution_count": 66,
   "metadata": {},
   "outputs": [
    {
     "data": {
      "image/png": "[encoded data removed]",
      "text/plain": [
       "<Figure size 432x288 with 1 Axes>"
      ]
     },
     "metadata": {
      "needs_background": "light"
     },
     "output_type": "display_data"
    }
   ],
   "source": [
    "fig, ax = plt.subplots(1)\n",
    "\n",
    "ax.scatter(\n",
    "    X[:, 0],\n",
    "    X[:, 1],\n",
    "    c=y\n",
    ")\n",
    "\n",
    "plt.show()"
   ]
  },
  {
   "cell_type": "code",
   "execution_count": 67,
   "metadata": {},
   "outputs": [
    {
     "data": {
      "text/plain": [
       "DecisionTreeClassifier(criterion='entropy', max_depth=3, random_state=42)"
      ]
     },
     "execution_count": 67,
     "metadata": {},
     "output_type": "execute_result"
    }
   ],
   "source": [
    "DEPTH = 3\n",
    "\n",
    "model = DecisionTreeClassifier(criterion='entropy', max_depth=3, random_state=42)\n",
    "model.fit(X, y)"
   ]
  },
  {
   "cell_type": "code",
   "execution_count": 68,
   "metadata": {},
   "outputs": [
    {
     "name": "stdout",
     "output_type": "stream",
     "text": [
      "|--- x0 <= -0.76\n",
      "|   |--- x0 <= -8.80\n",
      "|   |   |--- class: 1\n",
      "|   |--- x0 >  -8.80\n",
      "|   |   |--- x1 <= -0.42\n",
      "|   |   |   |--- class: 0\n",
      "|   |   |--- x1 >  -0.42\n",
      "|   |   |   |--- class: 0\n",
      "|--- x0 >  -0.76\n",
      "|   |--- class: 1\n",
      "\n"
     ]
    }
   ],
   "source": [
    "tree_rules = export_text(model, feature_names=['x0', 'x1'])\n",
    "print(tree_rules)"
   ]
  },
  {
   "cell_type": "code",
   "execution_count": 69,
   "metadata": {},
   "outputs": [],
   "source": [
    "from sklearn.tree import DecisionTreeClassifier\n",
    "from sklearn import tree"
   ]
  },
  {
   "cell_type": "code",
   "execution_count": 70,
   "metadata": {},
   "outputs": [],
   "source": [
    "clf = model"
   ]
  },
  {
   "cell_type": "code",
   "execution_count": 71,
   "metadata": {},
   "outputs": [
    {
     "name": "stdout",
     "output_type": "stream",
     "text": [
      "leaf 2\n",
      "leaf 4\n",
      "leaf 5\n",
      "leaf 6\n"
     ]
    }
   ],
   "source": [
    "# Gathering relevant methods\n",
    "n_nodes = clf.tree_.node_count\n",
    "children_left = clf.tree_.children_left\n",
    "children_right = clf.tree_.children_right\n",
    "feature = clf.tree_.feature\n",
    "threshold = clf.tree_.threshold\n",
    "\n",
    "# Determening tree structure\n",
    "node_depth = np.zeros(shape=n_nodes, dtype=np.int64)\n",
    "is_leaves = np.zeros(shape=n_nodes, dtype=bool)\n",
    "stack = [(0, 0)]  # start with the root node id (0) and its depth (0)\n",
    "while len(stack) > 0:\n",
    "    # `pop` ensures each node is only visited once\n",
    "    node_id, depth = stack.pop()\n",
    "    node_depth[node_id] = depth\n",
    "\n",
    "    # If the left and right child of a node is not the same we have a split\n",
    "    # node\n",
    "    is_split_node = children_left[node_id] != children_right[node_id]\n",
    "    # If a split node, append left and right children and depth to `stack`\n",
    "    # so we can loop through them\n",
    "    if is_split_node:\n",
    "        stack.append((children_left[node_id], depth + 1))\n",
    "        stack.append((children_right[node_id], depth + 1))\n",
    "    else:\n",
    "        is_leaves[node_id] = True\n",
    "\n",
    "tree_dict = {}\n",
    "tree_dict['depth'] = 5\n",
    "tree_dict['nodes'] = [{} for _ in range(n_nodes)]\n",
    "\n",
    "for i in range(n_nodes):\n",
    "    if is_leaves[i]:\n",
    "        print(f'leaf {i}')\n",
    "        tree_dict['nodes'][i]['is_leaf'] = 1\n",
    "        tree_dict['nodes'][i]['depth'] = node_depth[i]\n",
    "        tree_dict['nodes'][i]['index'] = i\n",
    "    else:\n",
    "        tree_dict['nodes'][i]['is_leaf'] = 0\n",
    "        tree_dict['nodes'][i]['depth'] = node_depth[i]\n",
    "        tree_dict['nodes'][i]['index'] = i\n",
    "        tree_dict['nodes'][i]['left'] = children_left[i]\n",
    "        tree_dict['nodes'][i]['right'] = children_right[i]\n",
    "        tree_dict['nodes'][i]['feature'] = feature[i]\n",
    "        tree_dict['nodes'][i]['threshold'] = threshold[i]\n",
    "        \n",
    "    tree_dict['nodes'][i]['population'] = []"
   ]
  },
  {
   "cell_type": "code",
   "execution_count": 72,
   "metadata": {},
   "outputs": [],
   "source": [
    "tree_dict['links'] = []\n",
    "\n",
    "x_min = X[0:].min()\n",
    "x_max = X[0:].max()\n",
    "y_min = X[1:].min()\n",
    "y_max = X[1:].max()\n",
    "\n",
    "# Global collection of hyperplanes\n",
    "tree_dict['hyperplanes'] = []\n",
    "\n",
    "def get_coordinates(i, pos_x, pos_y, hyperplanes):\n",
    "    '''DOCSTRING'''\n",
    "    pos_y = tree_dict['nodes'][i]['depth'] * 10\n",
    "    \n",
    "    tree_dict['nodes'][i]['pos_x'] = pos_x\n",
    "    tree_dict['nodes'][i]['pos_y'] = pos_y\n",
    "    tree_dict['nodes'][i]['hyperplanes'] = hyperplanes\n",
    "    \n",
    "    if tree_dict['nodes'][i]['is_leaf'] == 1:\n",
    "        return\n",
    "    \n",
    "    thresh = tree_dict['nodes'][i]['threshold']\n",
    "    \n",
    "    # Calculates current hyperplane\n",
    "    current_hyperplane = {}\n",
    "    if tree_dict['nodes'][i]['feature'] == 0:\n",
    "        current_hyperplane['x1'] = thresh\n",
    "        current_hyperplane['x2'] = thresh\n",
    "        \n",
    "        current_hyperplane['y1'] = y_min\n",
    "        current_hyperplane['y2'] = y_max\n",
    "    else:\n",
    "        current_hyperplane['x1'] = x_min\n",
    "        current_hyperplane['x2'] = x_max\n",
    "        \n",
    "        current_hyperplane['y1'] = thresh\n",
    "        current_hyperplane['y2'] = thresh\n",
    "    tree_dict['nodes'][i]['hyperplanes'].append(current_hyperplane)\n",
    "    tree_dict['hyperplanes'].append(current_hyperplane)\n",
    "    \n",
    "    # Save left link\n",
    "    tree_dict['links'].append({})\n",
    "    tree_dict['links'][-1]['x1'] = pos_x\n",
    "    tree_dict['links'][-1]['y1'] = pos_y\n",
    "    tree_dict['links'][-1]['x2'] = pos_x + 10 + (2 * depth)\n",
    "    tree_dict['links'][-1]['y2'] = pos_y + 10\n",
    "    \n",
    "    # Save right link\n",
    "    tree_dict['links'].append({})\n",
    "    tree_dict['links'][-1]['x1'] = pos_x\n",
    "    tree_dict['links'][-1]['y1'] = pos_y\n",
    "    tree_dict['links'][-1]['x2'] = pos_x - 10 - (2 * depth)\n",
    "    tree_dict['links'][-1]['y2'] = pos_y + 10\n",
    "    \n",
    "    get_coordinates(\n",
    "        tree_dict['nodes'][i]['left'],\n",
    "        pos_x + 10 + (2 * depth),\n",
    "        pos_y,\n",
    "        tree_dict['nodes'][i]['hyperplanes'].copy()\n",
    "    )\n",
    "    \n",
    "    get_coordinates(\n",
    "        tree_dict['nodes'][i]['right'],\n",
    "        pos_x - 10 - (2 * depth),\n",
    "        pos_y,\n",
    "        tree_dict['nodes'][i]['hyperplanes'].copy()\n",
    "    )\n",
    "    \n"
   ]
  },
  {
   "cell_type": "code",
   "execution_count": 73,
   "metadata": {},
   "outputs": [],
   "source": [
    "get_coordinates(0, 0, 0, [])"
   ]
  },
  {
   "cell_type": "code",
   "execution_count": 74,
   "metadata": {},
   "outputs": [
    {
     "data": {
      "text/plain": [
       "{'is_leaf': 0,\n",
       " 'depth': 0,\n",
       " 'index': 0,\n",
       " 'left': 1,\n",
       " 'right': 6,\n",
       " 'feature': 0,\n",
       " 'threshold': -0.764798104763031,\n",
       " 'population': [],\n",
       " 'pos_x': 0,\n",
       " 'pos_y': 0,\n",
       " 'hyperplanes': [{'x1': -0.764798104763031,\n",
       "   'x2': -0.764798104763031,\n",
       "   'y1': -12.971335860507283,\n",
       "   'y2': 15.48403041526756}]}"
      ]
     },
     "execution_count": 74,
     "metadata": {},
     "output_type": "execute_result"
    }
   ],
   "source": [
    "tree_dict['nodes'][0]"
   ]
  },
  {
   "cell_type": "code",
   "execution_count": 75,
   "metadata": {},
   "outputs": [
    {
     "data": {
      "text/plain": [
       "[{'x1': 0, 'y1': 0, 'x2': 14, 'y2': 10},\n",
       " {'x1': 0, 'y1': 0, 'x2': -14, 'y2': 10},\n",
       " {'x1': 14, 'y1': 10, 'x2': 28, 'y2': 20},\n",
       " {'x1': 14, 'y1': 10, 'x2': 0, 'y2': 20},\n",
       " {'x1': 0, 'y1': 20, 'x2': 14, 'y2': 30},\n",
       " {'x1': 0, 'y1': 20, 'x2': -14, 'y2': 30}]"
      ]
     },
     "execution_count": 75,
     "metadata": {},
     "output_type": "execute_result"
    }
   ],
   "source": [
    "tree_dict['links']"
   ]
  },
  {
   "cell_type": "code",
   "execution_count": 76,
   "metadata": {},
   "outputs": [
    {
     "data": {
      "text/plain": [
       "[{'x1': -0.764798104763031,\n",
       "  'x2': -0.764798104763031,\n",
       "  'y1': -12.971335860507283,\n",
       "  'y2': 15.48403041526756},\n",
       " {'x1': -8.7988600730896,\n",
       "  'x2': -8.7988600730896,\n",
       "  'y1': -12.971335860507283,\n",
       "  'y2': 15.48403041526756},\n",
       " {'x1': -12.971335860507283,\n",
       "  'x2': 15.48403041526756,\n",
       "  'y1': -0.4152803421020508,\n",
       "  'y2': -0.4152803421020508}]"
      ]
     },
     "execution_count": 76,
     "metadata": {},
     "output_type": "execute_result"
    }
   ],
   "source": [
    "tree_dict['hyperplanes']"
   ]
  },
  {
   "cell_type": "code",
   "execution_count": 77,
   "metadata": {},
   "outputs": [],
   "source": [
    "node_indicator = clf.decision_path(X)\n",
    "leaf_id = clf.apply(X)"
   ]
  },
  {
   "cell_type": "code",
   "execution_count": 78,
   "metadata": {},
   "outputs": [],
   "source": [
    "sample_id = 0\n",
    "# obtain ids of the nodes `sample_id` goes through, i.e., row `sample_id`\n",
    "node_index = node_indicator.indices[node_indicator.indptr[sample_id]:\n",
    "                                    node_indicator.indptr[sample_id + 1]]"
   ]
  },
  {
   "cell_type": "code",
   "execution_count": 79,
   "metadata": {},
   "outputs": [
    {
     "data": {
      "text/plain": [
       "array([0, 1, 2], dtype=int32)"
      ]
     },
     "execution_count": 79,
     "metadata": {},
     "output_type": "execute_result"
    }
   ],
   "source": [
    "node_index"
   ]
  },
  {
   "cell_type": "code",
   "execution_count": 80,
   "metadata": {},
   "outputs": [
    {
     "name": "stdout",
     "output_type": "stream",
     "text": [
      "Rules used to predict sample 0:\n",
      "\n",
      "decision node 0 : (X[0, 0] = -11.378708910841226) <= -0.764798104763031)\n",
      "decision node 1 : (X[0, 0] = -11.378708910841226) <= -8.7988600730896)\n",
      "leaf 2\n"
     ]
    }
   ],
   "source": [
    "print('Rules used to predict sample {id}:\\n'.format(id=sample_id))\n",
    "for node_id in node_index:\n",
    "    # continue to the next node if it is a leaf node\n",
    "    if leaf_id[sample_id] == node_id:\n",
    "        print(f'leaf {node_id}')\n",
    "        continue\n",
    "\n",
    "    # check if value of the split feature for sample 0 is below threshold\n",
    "    if (X[sample_id, feature[node_id]] <= threshold[node_id]):\n",
    "        threshold_sign = \"<=\"\n",
    "    else:\n",
    "        threshold_sign = \">\"\n",
    "\n",
    "    print(\"decision node {node} : (X[{sample}, {feature}] = {value}) \"\n",
    "          \"{inequality} {threshold})\".format(\n",
    "              node=node_id,\n",
    "              sample=sample_id,\n",
    "              feature=feature[node_id],\n",
    "              value=X[sample_id, feature[node_id]],\n",
    "              inequality=threshold_sign,\n",
    "              threshold=threshold[node_id]))\n"
   ]
  },
  {
   "cell_type": "code",
   "execution_count": 81,
   "metadata": {},
   "outputs": [],
   "source": [
    "for sample_id in range(len(X)):\n",
    "    node_index = node_indicator.indices[node_indicator.indptr[sample_id]:\n",
    "                                    node_indicator.indptr[sample_id + 1]]\n",
    "    for node_id in node_index:\n",
    "        tree_dict['nodes'][node_id]['population'].append(sample_id)"
   ]
  },
  {
   "cell_type": "code",
   "execution_count": 82,
   "metadata": {},
   "outputs": [],
   "source": [
    "y_pred = model.predict(X)"
   ]
  },
  {
   "cell_type": "code",
   "execution_count": 83,
   "metadata": {},
   "outputs": [],
   "source": [
    "\n",
    "df = pd.DataFrame(\n",
    "        zip(X[:, 0], X[:, 1], y, y_pred),\n",
    "        columns=['x0', 'x1', 'y', 'pred']\n",
    ")\n",
    "df['index'] = df.index\n",
    "df.to_csv('example_data.csv', index=False, header=True)\n"
   ]
  },
  {
   "cell_type": "code",
   "execution_count": 84,
   "metadata": {},
   "outputs": [],
   "source": [
    "tree_dict['data'] = df.to_dict('records')"
   ]
  },
  {
   "cell_type": "code",
   "execution_count": 85,
   "metadata": {},
   "outputs": [],
   "source": [
    "import json\n",
    "\n",
    "# https://stackoverflow.com/questions/50916422/python-typeerror-object-of-type-int64-is-not-json-serializable/50916741\n",
    "class NpEncoder(json.JSONEncoder):\n",
    "    def default(self, obj):\n",
    "        if isinstance(obj, np.integer):\n",
    "            return int(obj)\n",
    "        elif isinstance(obj, np.floating):\n",
    "            return float(obj)\n",
    "        elif isinstance(obj, np.ndarray):\n",
    "            return obj.tolist()\n",
    "        else:\n",
    "            return super(NpEncoder, self).default(obj)\n",
    "        \n",
    "with open('tree.json', 'w') as fp:\n",
    "    json.dump(tree_dict, fp, cls=NpEncoder)"
   ]
  },
  {
   "cell_type": "code",
   "execution_count": 86,
   "metadata": {},
   "outputs": [
    {
     "name": "stdout",
     "output_type": "stream",
     "text": [
      "0\n",
      "10\n",
      "20\n",
      "20\n",
      "30\n",
      "30\n",
      "10\n"
     ]
    }
   ],
   "source": [
    "for i in range(n_nodes):\n",
    "    print(tree_dict['nodes'][i]['pos_y'])"
   ]
  },
  {
   "cell_type": "code",
   "execution_count": 87,
   "metadata": {},
   "outputs": [
    {
     "data": {
      "text/plain": [
       "7"
      ]
     },
     "execution_count": 87,
     "metadata": {},
     "output_type": "execute_result"
    }
   ],
   "source": [
    "n_nodes"
   ]
  },
  {
   "cell_type": "code",
   "execution_count": 88,
   "metadata": {},
   "outputs": [
    {
     "data": {
      "text/plain": [
       "7"
      ]
     },
     "execution_count": 88,
     "metadata": {},
     "output_type": "execute_result"
    }
   ],
   "source": [
    "len(tree_dict['nodes'])"
   ]
  },
  {
   "cell_type": "code",
   "execution_count": 89,
   "metadata": {},
   "outputs": [
    {
     "name": "stdout",
     "output_type": "stream",
     "text": [
      "0\n",
      "14\n",
      "28\n",
      "0\n",
      "14\n",
      "-14\n",
      "-14\n"
     ]
    }
   ],
   "source": [
    "for i in range(n_nodes):\n",
    "    print(tree_dict['nodes'][i]['pos_x'])"
   ]
  },
  {
   "cell_type": "code",
   "execution_count": 90,
   "metadata": {},
   "outputs": [
    {
     "data": {
      "image/png": "[encoded data removed]",
      "text/plain": [
       "<Figure size 432x288 with 1 Axes>"
      ]
     },
     "metadata": {
      "needs_background": "light"
     },
     "output_type": "display_data"
    }
   ],
   "source": [
    "df['correct'] = (df['y'] == df['pred'])\n",
    "\n",
    "fig, ax = plt.subplots(1)\n",
    "\n",
    "ax.scatter(\n",
    "    df['x0'],\n",
    "    df['x1'],\n",
    "    c=df['correct']\n",
    ")\n",
    "\n",
    "plt.show()"
   ]
  },
  {
   "cell_type": "code",
   "execution_count": 91,
   "metadata": {},
   "outputs": [
    {
     "data": {
      "text/plain": [
       "0.88"
      ]
     },
     "execution_count": 91,
     "metadata": {},
     "output_type": "execute_result"
    }
   ],
   "source": [
    "df.correct.sum() / len(df)"
   ]
  },
  {
   "cell_type": "code",
   "execution_count": null,
   "metadata": {},
   "outputs": [],
   "source": []
  },
  {
   "cell_type": "code",
   "execution_count": null,
   "metadata": {},
   "outputs": [],
   "source": []
  }
 ],
 "metadata": {
  "kernelspec": {
   "display_name": "Python 3",
   "language": "python",
   "name": "python3"
  },
  "language_info": {
   "codemirror_mode": {
    "name": "ipython",
    "version": 3
   },
   "file_extension": ".py",
   "mimetype": "text/x-python",
   "name": "python",
   "nbconvert_exporter": "python",
   "pygments_lexer": "ipython3",
   "version": "3.8.5"
  }
 },
 "nbformat": 4,
 "nbformat_minor": 4
}
