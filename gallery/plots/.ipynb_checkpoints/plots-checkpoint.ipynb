{
 "cells": [
  {
   "cell_type": "markdown",
   "metadata": {},
   "source": [
    "<h1>Plots</h1>\n",
    "This is a collection of some of my favorite plots"
   ]
  },
  {
   "cell_type": "code",
   "execution_count": 1,
   "metadata": {},
   "outputs": [],
   "source": [
    "import numpy as np\n",
    "import pandas as pd\n",
    "import matplotlib.pyplot as plt\n",
    "import seaborn as sns"
   ]
  },
  {
   "cell_type": "code",
   "execution_count": null,
   "metadata": {},
   "outputs": [],
   "source": [
    "fig, ax = plt.subplots(1, figsize= (9,6))\n",
    "\n",
    "positions = list(range(len(map_df)))\n",
    "feats = map_df['sigla'].tolist()\n",
    "vals = map_df['QT_PORCENTAGEM_NOVOS'].fillna(0)\n",
    "\n",
    "order = vals.argsort()\n",
    "sorted_feats = [feats[i] for i in order]\n",
    "vals = sorted(vals)\n",
    "colors = [plt.cm.BrBG(val) for val in vals]\n",
    "\n",
    "ax.barh(positions, vals, color = colors)\n",
    "plt.yticks(positions, sorted_feats)\n",
    "\n",
    "ax.vlines(0.5, positions[0] - 0.5, positions[-1] + 0.5, color ='black', zorder = -1, ls = '--')\n",
    "plt.show()"
   ]
  },
  {
   "cell_type": "markdown",
   "metadata": {},
   "source": [
    "<h2> Geographical plots </h2>"
   ]
  },
  {
   "cell_type": "code",
   "execution_count": null,
   "metadata": {},
   "outputs": [],
   "source": [
    "import geopandas as gpd\n",
    "import json\n",
    "import requests\n",
    "\n",
    "headers = {\n",
    "    'Content-Type': 'application/json;charset=UTF-8',\n",
    "    'User-Agent': 'google-colab',\n",
    "    'Accept': 'application/json, text/plain, */*',\n",
    "    'Accept-Encoding': 'gzip, deflate, br',\n",
    "    'Accept-Language': 'pt-BR,pt;q=0.9,en-US;q=0.8,en;q=0.7',\n",
    "    'Connection': 'keep-alive',\n",
    "}\n",
    "meshes_url = f'https://servicodados.ibge.gov.br/api/v2/malhas/?resolucao={res}&formato=application/vnd.geo+json'  \n",
    "meshes_data = requests.get(meshes_url, headers=headers).json()\n",
    "\n",
    "states_url = 'https://servicodados.ibge.gov.br/api/v1/localidades/estados'\n",
    "states_data = requests.get(states_url, headers=headers).json()\n",
    "map_df = gpd.GeoDataFrame.from_features(meshes_data['features'])\n",
    "# Incorporate state data into the data frame\n",
    "for state in states_data:\n",
    "    map_df.loc[map_df['codarea'] == str(state['id']), 'id'] = state['id']\n",
    "    map_df.loc[map_df['codarea'] == str(state['id']), 'sigla'] = state['sigla']\n",
    "    map_df.loc[map_df['codarea'] == str(state['id']), 'nome'] = state['nome']   \n",
    "return map_df"
   ]
  }
 ],
 "metadata": {
  "kernelspec": {
   "display_name": "Python 3",
   "language": "python",
   "name": "python3"
  },
  "language_info": {
   "codemirror_mode": {
    "name": "ipython",
    "version": 3
   },
   "file_extension": ".py",
   "mimetype": "text/x-python",
   "name": "python",
   "nbconvert_exporter": "python",
   "pygments_lexer": "ipython3",
   "version": "3.8.2"
  }
 },
 "nbformat": 4,
 "nbformat_minor": 4
}
