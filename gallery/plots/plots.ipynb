{
 "cells": [
  {
   "cell_type": "markdown",
   "metadata": {},
   "source": [
    "<h1>Plots</h1>\n",
    "This is a collection of some of my favorite plots"
   ]
  },
  {
   "cell_type": "code",
   "execution_count": 5,
   "metadata": {},
   "outputs": [],
   "source": [
    "import numpy as np\n",
    "import pandas as pd\n",
    "import matplotlib.pyplot as plt\n",
    "import seaborn as sns"
   ]
  },
  {
   "cell_type": "code",
   "execution_count": null,
   "metadata": {},
   "outputs": [],
   "source": [
    "fig, ax = plt.subplots(1, figsize= (9,6))\n",
    "\n",
    "positions = list(range(len(map_df)))\n",
    "feats = map_df['sigla'].tolist()\n",
    "vals = map_df['QT_PORCENTAGEM_NOVOS'].fillna(0)\n",
    "\n",
    "order = vals.argsort()\n",
    "sorted_feats = [feats[i] for i in order]\n",
    "vals = sorted(vals)\n",
    "colors = [plt.cm.BrBG(val) for val in vals]\n",
    "\n",
    "ax.barh(positions, vals, color = colors)\n",
    "plt.yticks(positions, sorted_feats)\n",
    "\n",
    "ax.vlines(0.5, positions[0] - 0.5, positions[-1] + 0.5, color ='black', zorder = -1, ls = '--')\n",
    "plt.show()"
   ]
  },
  {
   "cell_type": "markdown",
   "metadata": {},
   "source": [
    "<h2> Geographical plots </h2>"
   ]
  },
  {
   "cell_type": "code",
   "execution_count": 1,
   "metadata": {},
   "outputs": [],
   "source": [
    "import geopandas as gpd\n",
    "import json\n",
    "import requests\n",
    "\n",
    "res = 2\n",
    "\n",
    "headers = {\n",
    "    'Content-Type': 'application/json;charset=UTF-8',\n",
    "    'User-Agent': 'google-colab',\n",
    "    'Accept': 'application/json, text/plain, */*',\n",
    "    'Accept-Encoding': 'gzip, deflate, br',\n",
    "    'Accept-Language': 'pt-BR,pt;q=0.9,en-US;q=0.8,en;q=0.7',\n",
    "    'Connection': 'keep-alive',\n",
    "}\n",
    "meshes_url = f'https://servicodados.ibge.gov.br/api/v2/malhas/?resolucao={res}&formato=application/vnd.geo+json'  \n",
    "meshes_data = requests.get(meshes_url, headers=headers).json()\n",
    "\n",
    "states_url = 'https://servicodados.ibge.gov.br/api/v1/localidades/estados'\n",
    "states_data = requests.get(states_url, headers=headers).json()\n",
    "map_df = gpd.GeoDataFrame.from_features(meshes_data['features'])\n",
    "# Incorporate state data into the data frame\n",
    "for state in states_data:\n",
    "    map_df.loc[map_df['codarea'] == str(state['id']), 'id'] = state['id']\n",
    "    map_df.loc[map_df['codarea'] == str(state['id']), 'sigla'] = state['sigla']\n",
    "    map_df.loc[map_df['codarea'] == str(state['id']), 'nome'] = state['nome']   "
   ]
  },
  {
   "cell_type": "code",
   "execution_count": 2,
   "metadata": {},
   "outputs": [
    {
     "name": "stdout",
     "output_type": "stream",
     "text": [
      "<class 'geopandas.geodataframe.GeoDataFrame'>\n",
      "RangeIndex: 27 entries, 0 to 26\n",
      "Data columns (total 6 columns):\n",
      " #   Column     Non-Null Count  Dtype   \n",
      "---  ------     --------------  -----   \n",
      " 0   geometry   27 non-null     geometry\n",
      " 1   codarea    27 non-null     object  \n",
      " 2   centroide  27 non-null     object  \n",
      " 3   id         27 non-null     float64 \n",
      " 4   sigla      27 non-null     object  \n",
      " 5   nome       27 non-null     object  \n",
      "dtypes: float64(1), geometry(1), object(4)\n",
      "memory usage: 1.4+ KB\n"
     ]
    }
   ],
   "source": [
    "map_df.info()"
   ]
  },
  {
   "cell_type": "code",
   "execution_count": 3,
   "metadata": {},
   "outputs": [
    {
     "data": {
      "text/plain": [
       "0     RO\n",
       "1     PA\n",
       "2     AM\n",
       "3     RR\n",
       "4     TO\n",
       "5     AC\n",
       "6     AP\n",
       "7     PI\n",
       "8     MA\n",
       "9     CE\n",
       "10    PE\n",
       "11    AL\n",
       "12    SE\n",
       "13    PB\n",
       "14    BA\n",
       "15    MG\n",
       "16    ES\n",
       "17    RN\n",
       "18    SP\n",
       "19    SC\n",
       "20    RJ\n",
       "21    PR\n",
       "22    RS\n",
       "23    MS\n",
       "24    MT\n",
       "25    GO\n",
       "26    DF\n",
       "Name: sigla, dtype: object"
      ]
     },
     "execution_count": 3,
     "metadata": {},
     "output_type": "execute_result"
    }
   ],
   "source": [
    "map_df.sigla"
   ]
  },
  {
   "cell_type": "code",
   "execution_count": 6,
   "metadata": {},
   "outputs": [
    {
     "name": "stdout",
     "output_type": "stream",
     "text": [
      "<class 'pandas.core.frame.DataFrame'>\n",
      "RangeIndex: 27 entries, 0 to 26\n",
      "Data columns (total 2 columns):\n",
      " #   Column  Non-Null Count  Dtype  \n",
      "---  ------  --------------  -----  \n",
      " 0   sigla   27 non-null     object \n",
      " 1   val     27 non-null     float64\n",
      "dtypes: float64(1), object(1)\n",
      "memory usage: 560.0+ bytes\n"
     ]
    }
   ],
   "source": [
    "data = pd.read_csv(\"./data/geo.csv\")\n",
    "data.info()"
   ]
  },
  {
   "cell_type": "code",
   "execution_count": null,
   "metadata": {},
   "outputs": [],
   "source": []
  }
 ],
 "metadata": {
  "kernelspec": {
   "display_name": "Python 3",
   "language": "python",
   "name": "python3"
  },
  "language_info": {
   "codemirror_mode": {
    "name": "ipython",
    "version": 3
   },
   "file_extension": ".py",
   "mimetype": "text/x-python",
   "name": "python",
   "nbconvert_exporter": "python",
   "pygments_lexer": "ipython3",
   "version": "3.8.2"
  }
 },
 "nbformat": 4,
 "nbformat_minor": 4
}
